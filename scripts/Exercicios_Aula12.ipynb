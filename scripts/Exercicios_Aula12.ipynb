{
 "cells": [
  {
   "cell_type": "code",
   "execution_count": 1,
   "metadata": {},
   "outputs": [],
   "source": [
    "import numpy as np"
   ]
  },
  {
   "cell_type": "code",
   "execution_count": 2,
   "metadata": {},
   "outputs": [],
   "source": [
    "import sys\n",
    "sys.path.insert(0, \"/home/monica/Documents/2_ano/sistemas/si/\")\n",
    "from src.si.data.dataset import Dataset\n",
    "from src.si.neuronetworks.nn import NN\n",
    "from src.si.neuronetworks.layer import Dense\n",
    "from src.si.neuronetworks.sigmoid_activation import SigmoidActivation\n",
    "from src.si.neuronetworks.soft_max_activation import SoftMaxActivation\n",
    "from src.si.neuronetworks.re_lu_activation import ReLUActivation\n",
    "from src.si.linear_model.ridge_regression import RidgeRegression\n",
    "from src.si.linear_model.logistic_regression import LogisticRegression\n",
    "from src.si.model_selection.split import train_test_split\n",
    "import matplotlib.pyplot as plt\n",
    "from src.si.io_folder.module_csv import read_csv\n",
    "from sklearn import preprocessing\n"
   ]
  },
  {
   "cell_type": "markdown",
   "metadata": {},
   "source": [
    "# Avaliação Aula 12 (12/12/2022)"
   ]
  },
  {
   "cell_type": "markdown",
   "metadata": {},
   "source": [
    "## Exercício 12: Redes neuronais e Backpropagation"
   ]
  },
  {
   "cell_type": "markdown",
   "metadata": {},
   "source": [
    "##### 12.1) Implementa o método de backward propagation da ReLUActivation layer.\n",
    "\n",
    "Considera o seguinte para a propagação do erro numa layer de ativação ReLU:\n",
    "- Substituir valores de erro superiores a 0 por 1\n",
    "- Substituir valores de erro inferiores a 0 por 0\n",
    "- Multiplicação elemento a elemento entre o erro e os valores anteriores"
   ]
  },
  {
   "cell_type": "code",
   "execution_count": 2,
   "metadata": {},
   "outputs": [],
   "source": [
    "# adicionado no ficheiro src/si/neuronetworks/re_lu_activation.py"
   ]
  },
  {
   "cell_type": "markdown",
   "metadata": {},
   "source": [
    "##### 12.2) Constrói um modelo de redes neuronais adequado ao dataset breast-bin.csv."
   ]
  },
  {
   "cell_type": "code",
   "execution_count": 8,
   "metadata": {},
   "outputs": [],
   "source": [
    "breast_bin = read_csv('/home/monica/Documents/2_ano/sistemas/si/datasets/breast-bin.csv', sep=',',features=True, label=True)"
   ]
  },
  {
   "cell_type": "code",
   "execution_count": 21,
   "metadata": {},
   "outputs": [
    {
     "data": {
      "text/plain": [
       "array([0., 0., 0., 1., 0., 0., 0., 0., 1., 0., 0., 0., 0., 0., 0., 0., 0.,\n",
       "       0., 1., 0.])"
      ]
     },
     "execution_count": 21,
     "metadata": {},
     "output_type": "execute_result"
    }
   ],
   "source": [
    "breast_bin.y[:20]\n",
    "\n",
    "# binary problem"
   ]
  },
  {
   "cell_type": "code",
   "execution_count": null,
   "metadata": {},
   "outputs": [],
   "source": [
    "breast_bin.X = preprocessing.StandardScaler().fit_transform(breast_bin.X)\n",
    "\n",
    "breast_bin_train, breast_bin_test = train_test_split(breast_bin)\n"
   ]
  },
  {
   "cell_type": "code",
   "execution_count": null,
   "metadata": {},
   "outputs": [],
   "source": [
    "# 3 layers with sigmoid activation\n",
    "\n",
    "l1_bin = Dense(input_size = 32, output_size=32)\n",
    "l2_bin = Dense(input_size = 32, output_size=16)\n",
    "l3_bin = Dense(input_size = 16, output_size=1)\n",
    "\n",
    "l1_bin_sa = SigmoidActivation()\n",
    "l2_bin_sa = SigmoidActivation()\n",
    "l3_bin_sa = SigmoidActivation()\n",
    "\n",
    "model_bin = NN(layers=[ l1_bin, l1_bin_sa, l2_bin, l2_bin_sa, l3_bin, l3_bin_sa])"
   ]
  },
  {
   "cell_type": "markdown",
   "metadata": {},
   "source": [
    "##### 12.3) Constrói um modelo de redes neuronais adequado ao dataset cpu.csv."
   ]
  },
  {
   "cell_type": "code",
   "execution_count": null,
   "metadata": {},
   "outputs": [],
   "source": []
  },
  {
   "cell_type": "code",
   "execution_count": null,
   "metadata": {},
   "outputs": [],
   "source": []
  }
 ],
 "metadata": {
  "interpreter": {
   "hash": "e71a2622d18b954f601eb15bdbe4e36c93b9df08524a4249d8fe136413568723"
  },
  "kernelspec": {
   "display_name": "Python 3 (ipykernel)",
   "language": "python",
   "name": "python3"
  },
  "language_info": {
   "codemirror_mode": {
    "name": "ipython",
    "version": 3
   },
   "file_extension": ".py",
   "mimetype": "text/x-python",
   "name": "python",
   "nbconvert_exporter": "python",
   "pygments_lexer": "ipython3",
   "version": "3.9.12"
  }
 },
 "nbformat": 4,
 "nbformat_minor": 4
}
