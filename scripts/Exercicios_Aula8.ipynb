{
 "cells": [
  {
   "cell_type": "code",
   "execution_count": 1,
   "metadata": {},
   "outputs": [],
   "source": [
    "import numpy as np"
   ]
  },
  {
   "cell_type": "code",
   "execution_count": 2,
   "metadata": {},
   "outputs": [],
   "source": [
    "import sys\n",
    "sys.path.insert(0, \"/home/monica/Documents/2_ano/sistemas/si/\") \n",
    "from src.si.linear_model.logistic_regression import LogisticRegression\n",
    "from src.si.linear_model.logistic_regression import LogisticRegression\n",
    "from src.si.feature_extraction.k_mer import KMer\n",
    "from src.si.model_selection.split import train_test_split\n",
    "from src.si.io_folder.module_csv import read_csv\n",
    "from sklearn import preprocessing\n",
    "import matplotlib.pyplot as plt\n"
   ]
  },
  {
   "cell_type": "markdown",
   "metadata": {},
   "source": [
    "# Avaliação Aula 8 (14/11/2022)"
   ]
  },
  {
   "cell_type": "markdown",
   "metadata": {},
   "source": [
    "## Exercício 8: Adapta o KMer para calcular a composição peptídica"
   ]
  },
  {
   "cell_type": "markdown",
   "metadata": {},
   "source": [
    "##### 8.1) O KMer deve ser capaz de calcular a composição nucleotídica e peptídica. Podes adicionar um novo parâmetro chamado alphabet onde o utilizador fornece o alfabeto da sequência biológica."
   ]
  },
  {
   "cell_type": "markdown",
   "metadata": {},
   "source": [
    "##### 8.2) Testa o novo KMer para sequências de aminoácidos:\n",
    "\n",
    "1. Usa o dataset transporters.csv. Inspeciona o conteúdo do dataset."
   ]
  },
  {
   "cell_type": "code",
   "execution_count": 3,
   "metadata": {},
   "outputs": [],
   "source": [
    "transporters = read_csv('/home/monica/Documents/2_ano/sistemas/si/datasets/transporters.csv', sep=',',features=True, label=True)"
   ]
  },
  {
   "cell_type": "markdown",
   "metadata": {},
   "source": [
    "2. Usa o KMer para obter a frequência de cada substring em cada sequência do dataset. Tamanho da substring (k): 2"
   ]
  },
  {
   "cell_type": "code",
   "execution_count": 4,
   "metadata": {},
   "outputs": [],
   "source": [
    "kmer = KMer(2, alphabet='PROTEIN')\n",
    "kmer_transporters = kmer.fit_transform(transporters)\n"
   ]
  },
  {
   "cell_type": "markdown",
   "metadata": {},
   "source": [
    "3. Usa o sklearn.preprocessing.StandardScaler para standardizar o dataset da composição pepetídica.\n",
    "\n",
    "    dataset.X = StandardScaler().fit_transform(dataset.X)"
   ]
  },
  {
   "cell_type": "code",
   "execution_count": 5,
   "metadata": {},
   "outputs": [],
   "source": [
    "from sklearn.preprocessing import StandardScaler\n",
    "\n",
    "kmer_transporters.X = StandardScaler().fit_transform(kmer_transporters.X)"
   ]
  },
  {
   "cell_type": "markdown",
   "metadata": {},
   "source": [
    "4. Divide o dataset em treino e teste."
   ]
  },
  {
   "cell_type": "code",
   "execution_count": 6,
   "metadata": {},
   "outputs": [],
   "source": [
    "kmer_transporters_train, kmer_transporters_test = train_test_split(kmer_transporters, test_size=0.2)\n"
   ]
  },
  {
   "cell_type": "markdown",
   "metadata": {},
   "source": [
    "5. Treina o modelo LogisticRegression no dataset de composição pepetídica."
   ]
  },
  {
   "cell_type": "code",
   "execution_count": 7,
   "metadata": {},
   "outputs": [
    {
     "data": {
      "text/plain": [
       "<src.si.linear_model.logistic_regression.LogisticRegression at 0x7fa8a4b03a60>"
      ]
     },
     "execution_count": 7,
     "metadata": {},
     "output_type": "execute_result"
    }
   ],
   "source": [
    "model = LogisticRegression()\n",
    "model.fit(kmer_transporters_train)"
   ]
  },
  {
   "cell_type": "markdown",
   "metadata": {},
   "source": [
    "6. Qual o score obtido?"
   ]
  },
  {
   "cell_type": "code",
   "execution_count": 8,
   "metadata": {},
   "outputs": [
    {
     "name": "stdout",
     "output_type": "stream",
     "text": [
      "Score: 0.763681592039801\n"
     ]
    }
   ],
   "source": [
    "score = model.score(kmer_transporters_test)\n",
    "print(f\"Score: {score}\")"
   ]
  }
 ],
 "metadata": {
  "interpreter": {
   "hash": "e71a2622d18b954f601eb15bdbe4e36c93b9df08524a4249d8fe136413568723"
  },
  "kernelspec": {
   "display_name": "Python 3 (ipykernel)",
   "language": "python",
   "name": "python3"
  },
  "language_info": {
   "codemirror_mode": {
    "name": "ipython",
    "version": 3
   },
   "file_extension": ".py",
   "mimetype": "text/x-python",
   "name": "python",
   "nbconvert_exporter": "python",
   "pygments_lexer": "ipython3",
   "version": "3.9.12"
  }
 },
 "nbformat": 4,
 "nbformat_minor": 4
}
