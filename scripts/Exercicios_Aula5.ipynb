{
 "cells": [
  {
   "cell_type": "code",
   "execution_count": 1,
   "metadata": {},
   "outputs": [],
   "source": [
    "import numpy as np"
   ]
  },
  {
   "cell_type": "code",
   "execution_count": 2,
   "metadata": {},
   "outputs": [],
   "source": [
    "import sys\n",
    "sys.path.insert(0, \"/home/monica/Documents/2_ano/sistemas/si/\") \n",
    "from src.si.data.dataset import Dataset\n",
    "from src.si.linear_model.ridge_regression import RidgeRegression\n",
    "from src.si.linear_model.logistic_regression import LogisticRegression\n",
    "\n",
    "import matplotlib.pyplot as plt\n"
   ]
  },
  {
   "cell_type": "code",
   "execution_count": 3,
   "metadata": {},
   "outputs": [],
   "source": [
    "from src.si.io_folder.module_csv import read_csv"
   ]
  },
  {
   "cell_type": "markdown",
   "metadata": {},
   "source": [
    "# Avaliação Aula 5 (24/10/2022)"
   ]
  },
  {
   "cell_type": "markdown",
   "metadata": {},
   "source": [
    "## Exercício 5: Completa as implementações dos modelos RidgeRegression e LogisticRegression"
   ]
  },
  {
   "cell_type": "markdown",
   "metadata": {},
   "source": [
    "##### 5.1) Adiciona aos modelos anteriores o atributo (parâmetro estimado) cost_history.\n",
    "\n",
    "- O cost_history deve ser um dicionário.\n",
    "- Durante as iterações do Gradient Descent, computa a função de custo (self.cost(dataset)) e armazena o resultado no dicionário cost_history.\n",
    "- A chave deve ser o número da iteração e o valor deve ser o custo nessa iteração."
   ]
  },
  {
   "cell_type": "markdown",
   "metadata": {},
   "source": [
    "##### 5.2) Realiza um gráfico (line plot) que permita visualizar o comportamento do custo em função do número de iterações.\n",
    "\n",
    "- O eixo Y deve conter o valor de custo enquanto o eixo X deve conter as iterações. Podes usar o dicionário cost_history.\n",
    "- Usa o dataset cpu.csv, o package matplotlib e um jupyter notebook para visualizares o comportamento da função de custo (J) no modelo RidgeRegression.\n",
    "- Usa o dataset breast-bin.csv, o package matplotlib e um jupyter notebook para visualizares o comportamento da função de custo (J) no modelo LogisticRegression."
   ]
  },
  {
   "cell_type": "code",
   "execution_count": 12,
   "metadata": {},
   "outputs": [
    {
     "name": "stdout",
     "output_type": "stream",
     "text": [
      "Parameters: [2.11212904e+132 1.18650604e+134 4.70086881e+134 9.48870859e+131\n",
      " 1.71308466e+131 6.34006274e+131]\n",
      "Score: 3.4462020238337778e+277\n",
      "Cost: 3.4462020238900133e+277\n",
      "Predictions: [2.85148668e+138 1.59920983e+139 1.59920983e+139 1.59920983e+139\n",
      " 8.47069808e+138 1.59921223e+139 1.69413222e+139 1.69413222e+139\n",
      " 3.19841024e+139 3.38825958e+139 1.52975756e+138 1.70690583e+138\n",
      " 3.99818992e+138 7.99616506e+138 3.84211716e+136 7.58258262e+138\n",
      " 1.00271721e+138 2.41150706e+138 1.05913742e+138 2.94409647e+138\n",
      " 3.13984645e+138 3.28267113e+138 3.18777871e+138 3.28262949e+138\n",
      " 2.83639224e+138 1.00160464e+138 2.85157572e+138 1.44131697e+138\n",
      " 2.41186655e+138 2.38149263e+138 1.38725432e+138 1.38725432e+138\n",
      " 5.23752646e+138 5.23752646e+138 1.04796151e+139 1.04796320e+139\n",
      " 9.99614989e+137 1.99911469e+138 3.99811281e+138 1.99911503e+138\n",
      " 3.87946255e+138 7.75880820e+138 7.75880884e+138 7.75880884e+138\n",
      " 5.75999077e+138 3.87964325e+138 3.03152833e+137 2.47079666e+138\n",
      " 3.82212719e+138 3.82187944e+138 3.80773619e+138 9.72027632e+137\n",
      " 7.64035367e+138 3.87976954e+138 1.99924710e+138 5.75994215e+138\n",
      " 3.87982696e+138 3.79276203e+138 3.79276203e+138 3.79276203e+138\n",
      " 3.79276203e+138 3.79276203e+138 5.31114077e+137 3.99823968e+138\n",
      " 7.75893472e+138 7.75899545e+138 5.00658401e+137 9.70776964e+137\n",
      " 1.99923565e+138 2.11789068e+138 3.99817801e+138 4.11684383e+138\n",
      " 9.70933689e+137 1.50203421e+138 1.50203990e+138 5.73282183e+138\n",
      " 2.20716367e+138 5.68725914e+138 3.84463236e+137 5.73257196e+138\n",
      " 1.52961115e+138 1.99968047e+138 7.64075330e+138 1.05952283e+138\n",
      " 1.99969947e+138 2.11794877e+138 2.11795021e+138 2.11796489e+138\n",
      " 1.52804203e+139 3.99835674e+138 1.52804419e+139 1.52804419e+139\n",
      " 2.11796489e+138 7.99612251e+138 1.17568809e+139 1.69413235e+139\n",
      " 1.69413221e+139 1.59920565e+139 8.47066138e+138 2.53089588e+137\n",
      " 1.05925649e+138 2.88153247e+138 7.68203598e+137 1.03362159e+138\n",
      " 1.03256553e+138 2.11849441e+138 4.23614314e+138 5.90639861e+137\n",
      " 5.32738366e+137 2.00090430e+138 2.00090809e+138 2.11955399e+138\n",
      " 2.11813589e+138 2.11813589e+138 3.99838802e+138 7.75910122e+138\n",
      " 7.75909066e+138 1.99947959e+138 5.87840690e+138 5.87841547e+138\n",
      " 7.99604466e+138 7.99606744e+138 5.64378759e+137 1.03446564e+138\n",
      " 1.03298715e+138 2.11775868e+138 3.99811379e+138 3.99811345e+138\n",
      " 7.75882368e+138 7.75882368e+138 8.47075261e+138 3.87956103e+138\n",
      " 3.87958380e+138 3.87958397e+138 7.75881897e+138 7.75883087e+138\n",
      " 7.75883087e+138 1.94149600e+138 3.99825643e+138 2.11789689e+138\n",
      " 3.99822493e+138 3.99822493e+138 3.99819836e+138 7.99617010e+138\n",
      " 7.99615360e+138 7.75888471e+138 7.99618591e+138 7.99616606e+138\n",
      " 7.99621685e+138 3.99816963e+138 8.47072131e+138 1.59921468e+139\n",
      " 1.59921363e+139 1.69414146e+139 1.17568359e+139 1.59921426e+139\n",
      " 1.69415141e+139 5.88976771e+137 1.05900578e+138 1.99912040e+138\n",
      " 3.05794604e+138 3.99811980e+138 4.23542101e+138 6.11576853e+138\n",
      " 7.99611605e+138 4.23543114e+138 4.23543114e+138 8.47074169e+138\n",
      " 1.22315278e+139 7.99621728e+138 1.05924825e+138 1.99942328e+138\n",
      " 3.99848277e+138 1.94162929e+138 1.94162981e+138 7.64057494e+138\n",
      " 1.94143983e+138 1.00126832e+138 1.99935273e+138 3.87970784e+138\n",
      " 3.99837299e+138 5.31352586e+137 1.00144073e+138 2.11788370e+138\n",
      " 3.05807064e+138 3.99824279e+138 7.99614102e+138 6.11580655e+138\n",
      " 6.11580862e+138 8.47079756e+138 1.22313868e+139 1.59921129e+139\n",
      " 1.59921858e+139 3.99829025e+138 1.52802273e+139 1.52802700e+139\n",
      " 1.52803681e+139 1.55176693e+139 3.10350333e+139 3.10350637e+139\n",
      " 1.91181626e+138 1.94147891e+138 1.91181626e+138 1.94147891e+138\n",
      " 3.87961282e+138 3.87958844e+138 3.99826951e+138 3.82248836e+138\n",
      " 2.00001197e+138]\n"
     ]
    }
   ],
   "source": [
    "cpu = read_csv('/home/monica/Documents/2_ano/sistemas/si/datasets/cpu.csv', sep=',',features=True, label=True)\n",
    "\n",
    "# fit the model\n",
    "model_cpu = RidgeRegression(max_iter=25)\n",
    "model_cpu.fit(cpu)\n",
    "\n",
    "# get coefs\n",
    "print(f\"Parameters: {model_cpu.theta}\")\n",
    "\n",
    "# compute the score\n",
    "score = model_cpu.score(cpu)\n",
    "print(f\"Score: {score}\")\n",
    "\n",
    "# compute the cost\n",
    "cost = model_cpu.cost(cpu)\n",
    "print(f\"Cost: {cost}\")\n",
    "\n",
    "# predict\n",
    "y_pred_ = model_cpu.predict(cpu)\n",
    "print(f\"Predictions: {y_pred_}\")"
   ]
  },
  {
   "cell_type": "code",
   "execution_count": 13,
   "metadata": {},
   "outputs": [
    {
     "data": {
      "image/png": "[encoded data removed]",
      "text/plain": [
       "<Figure size 432x288 with 1 Axes>"
      ]
     },
     "metadata": {
      "needs_background": "light"
     },
     "output_type": "display_data"
    }
   ],
   "source": [
    "\n",
    "plt.plot(model_cpu.cost_history.values())\n",
    "\n",
    "plt.title(\"Ridge Regression Cost History\")\n",
    "plt.ylabel(\"Cost\")\n",
    "plt.xlabel(\"Iterations\")\n",
    "plt.show()"
   ]
  },
  {
   "cell_type": "code",
   "execution_count": 14,
   "metadata": {},
   "outputs": [
    {
     "name": "stdout",
     "output_type": "stream",
     "text": [
      "Parameters: [-0.21120403  0.24528864  0.17312826  0.06141825 -0.23670536  0.28554284\n",
      " -0.15457201  0.15062098 -0.10358795]\n",
      "Score: 0.9083094555873925\n",
      "Cost: 0.39488034003148653\n",
      "Predictions: [0. 0. 0. 1. 0. 0. 0. 0. 1. 0. 0. 0. 0. 0. 0. 0. 0. 0. 1. 0. 0. 0. 0. 0.\n",
      " 1. 1. 1. 1. 1. 1. 0. 1. 1. 0. 1. 0. 1. 0. 0. 1. 1. 0. 0. 0. 0. 1. 1. 0.\n",
      " 0. 0. 1. 0. 0. 0. 0. 0. 0. 1. 0. 1. 0. 0. 0. 1. 0. 0. 0. 0. 0. 0. 1. 1.\n",
      " 0. 0. 0. 0. 0. 0. 1. 0. 0. 0. 1. 1. 1. 0. 0. 1. 0. 1. 0. 1. 1. 0. 1. 0.\n",
      " 0. 0. 0. 0. 1. 0. 1. 1. 1. 1. 0. 0. 0. 0. 0. 1. 0. 0. 0. 1. 0. 0. 0. 0.\n",
      " 0. 0. 0. 0. 0. 1. 0. 0. 0. 0. 1. 0. 1. 1. 0. 1. 1. 0. 1. 1. 0. 1. 0. 0.\n",
      " 0. 0. 1. 0. 0. 0. 0. 1. 0. 0. 0. 0. 0. 0. 0. 0. 0. 0. 0. 1. 0. 0. 0. 0.\n",
      " 0. 0. 0. 1. 1. 1. 0. 0. 1. 1. 0. 1. 0. 0. 1. 0. 0. 0. 0. 0. 1. 0. 0. 0.\n",
      " 0. 0. 0. 1. 1. 0. 1. 1. 0. 1. 1. 0. 0. 0. 0. 0. 0. 0. 1. 0. 0. 0. 0. 1.\n",
      " 1. 0. 0. 1. 0. 0. 1. 0. 0. 0. 0. 0. 1. 1. 0. 0. 1. 0. 1. 1. 0. 1. 1. 0.\n",
      " 0. 1. 1. 1. 1. 0. 1. 1. 0. 0. 0. 0. 0. 0. 1. 0. 1. 0. 1. 1. 1. 0. 0. 0.\n",
      " 1. 1. 0. 0. 0. 1. 0. 0. 0. 1. 1. 0. 0. 1. 0. 0. 1. 1. 1. 0. 1. 0. 0. 0.\n",
      " 0. 0. 1. 0. 0. 0. 0. 0. 1. 0. 1. 1. 0. 1. 0. 1. 0. 0. 0. 0. 1. 1. 0. 1.\n",
      " 0. 0. 0. 0. 1. 0. 1. 0. 0. 0. 0. 1. 1. 0. 0. 0. 1. 0. 1. 1. 0. 1. 0. 1.\n",
      " 0. 1. 1. 1. 0. 0. 0. 0. 1. 0. 1. 0. 0. 0. 0. 0. 0. 0. 0. 0. 1. 0. 0. 0.\n",
      " 0. 0. 0. 0. 1. 0. 1. 1. 0. 1. 0. 0. 0. 0. 1. 0. 0. 0. 0. 0. 0. 0. 1. 1.\n",
      " 0. 0. 0. 0. 0. 1. 1. 0. 1. 1. 0. 0. 0. 1. 0. 1. 0. 0. 0. 1. 0. 0. 0. 0.\n",
      " 1. 0. 1. 1. 0. 0. 1. 0. 1. 0. 0. 1. 0. 1. 1. 1. 0. 1. 0. 0. 0. 1. 1. 1.\n",
      " 0. 0. 0. 0. 1. 1. 0. 1. 1. 0. 1. 0. 1. 0. 0. 1. 0. 0. 0. 1. 0. 1. 0. 0.\n",
      " 0. 0. 1. 0. 0. 1. 0. 0. 1. 0. 0. 0. 0. 0. 1. 1. 1. 1. 0. 0. 0. 0. 1. 1.\n",
      " 0. 0. 0. 1. 1. 0. 0. 0. 0. 1. 1. 0. 0. 0. 0. 1. 1. 0. 1. 1. 0. 1. 0. 1.\n",
      " 0. 0. 0. 1. 0. 1. 1. 1. 0. 0. 0. 0. 1. 1. 0. 0. 1. 1. 1. 1. 0. 0. 1. 0.\n",
      " 1. 0. 0. 1. 1. 0. 0. 1. 1. 1. 0. 0. 1. 0. 0. 0. 0. 1. 0. 0. 1. 0. 1. 0.\n",
      " 0. 1. 0. 0. 0. 0. 0. 1. 1. 0. 1. 0. 0. 0. 0. 1. 0. 0. 1. 0. 0. 0. 1. 0.\n",
      " 0. 1. 0. 0. 0. 0. 0. 0. 0. 1. 1. 0. 1. 0. 0. 1. 0. 1. 1. 1. 0. 0. 0. 0.\n",
      " 0. 0. 0. 1. 1. 0. 1. 0. 1. 0. 0. 1. 0. 0. 1. 1. 0. 0. 1. 1. 1. 1. 1. 0.\n",
      " 1. 1. 1. 1. 0. 0. 0. 0. 0. 0. 1. 1. 1. 1. 1. 0. 1. 0. 0. 0. 1. 0. 0. 1.\n",
      " 0. 0. 0. 0. 1. 0. 1. 0. 0. 1. 0. 0. 1. 0. 0. 1. 0. 1. 0. 0. 0. 0. 0. 0.\n",
      " 1. 1. 0. 0. 0. 1. 0. 1. 0. 1. 0. 0. 1. 0. 0. 0. 0. 1. 1. 1. 0. 0. 0. 0.\n",
      " 1. 1.]\n"
     ]
    }
   ],
   "source": [
    "breast_bin = read_csv('/home/monica/Documents/2_ano/sistemas/si/datasets/breast-bin.csv', sep=',',features=True, label=True)\n",
    "\n",
    "# fit the model    \n",
    "model_b = LogisticRegression()\n",
    "model_b.fit(breast_bin)\n",
    "\n",
    "# get coefs\n",
    "print(f\"Parameters: {model_b.theta}\")\n",
    "\n",
    "# compute the score\n",
    "score = model_b.score(breast_bin)\n",
    "print(f\"Score: {score}\")\n",
    "\n",
    "# compute the cost\n",
    "cost = model_b.cost(breast_bin)\n",
    "print(f\"Cost: {cost}\")\n",
    "\n",
    "# predict\n",
    "y_pred_ = model_b.predict(breast_bin)\n",
    "print(f\"Predictions: {y_pred_}\")\n",
    "\n",
    "# print(model_b.cost_history)"
   ]
  },
  {
   "cell_type": "code",
   "execution_count": 15,
   "metadata": {},
   "outputs": [
    {
     "data": {
      "image/png": "[encoded data removed]",
      "text/plain": [
       "<Figure size 432x288 with 1 Axes>"
      ]
     },
     "metadata": {
      "needs_background": "light"
     },
     "output_type": "display_data"
    }
   ],
   "source": [
    "plt.plot(model_b.cost_history.values())\n",
    "\n",
    "plt.title(\"Logistic Regression Cost History\")\n",
    "plt.ylabel(\"Cost\")\n",
    "plt.xlabel(\"Iterations\")\n",
    "plt.show()"
   ]
  },
  {
   "cell_type": "markdown",
   "metadata": {},
   "source": [
    "##### 5.3) Altera agora o algoritmo de Gradient Descent. Este algoritmo deve parar quando o valor da função de custo (J/self.cost) não se altera.\n",
    "\n",
    "- Quando a diferença entre o custo da iteração anterior e o custo da iteração atual for inferior a um determinado valor deves parar o Gradient Descent.\n",
    "- No caso do RidgeRegression, o critério de paragem deve ser uma diferença inferior a 1.\n",
    "- No caso do LogisticRegression, o critério de paragem deve ser uma diferença inferior a 0.0001.\n",
    "- Deves usar o dicionário cost_history para obteres o custo da iteração anterior e calcular a diferença da seguinte forma: cost_history(i-1) – cost_history(i).\n",
    "- Usa o dataset cpu.csv, o package matplotlib e um jupyter notebook para visualizares o comportamento da função de custo (J) no modelo RidgeRegression\n",
    "- Usa o dataset breast-bin.csv, o package matplotlib e um jupyter notebook para visualizares o comportamento da função de custo (J) no modelo LogisticRegression"
   ]
  },
  {
   "cell_type": "markdown",
   "metadata": {},
   "source": [
    "##### 5.4) (OPCIONAL) Adiciona uma segunda versão do algoritmo Gradient Descent. Este algoritmo deve diminuir o valor de alfa quando a função de custo (J/self.cost) não se altera.\n",
    "\n",
    "- Quando a diferença entre o custo da iteração anterior e o custo da iteração atual for inferior a um determinado valor deves diminuir o alfa\n",
    "- No caso do RidgeRegression, o critério para alterar o alfa deve ser uma diferença inferior a 1.\n",
    "- No caso do LogisticRegression, o critério para alterar o alfa deve ser uma diferença inferior a 0.0001.\n",
    "- Deves diminuir o valor do alfa usando a seguinte sugestão: self.alfa = self.alfa/2\n",
    "- Deves usar o dicionário cost_history para obteres o custo da iteração anterior e calcular a diferença da seguinte forma: cost_history(i-1) – cost_history(i).\n",
    "- Usa o dataset cpu.csv, o package matplotlib e um jupyter notebook para visualizares o comportamento da função de custo (J) no modelo RidgeRegression com o novo Gradient Descent\n",
    "- Usa o dataset breast-bin.csv, o package matplotlib e um jupyter notebook para visualizares o comportamento da função de custo (J) no modelo LogisticRegression com o novo Gradient Descent"
   ]
  }
 ],
 "metadata": {
  "interpreter": {
   "hash": "e71a2622d18b954f601eb15bdbe4e36c93b9df08524a4249d8fe136413568723"
  },
  "kernelspec": {
   "display_name": "Python 3 (ipykernel)",
   "language": "python",
   "name": "python3"
  },
  "language_info": {
   "codemirror_mode": {
    "name": "ipython",
    "version": 3
   },
   "file_extension": ".py",
   "mimetype": "text/x-python",
   "name": "python",
   "nbconvert_exporter": "python",
   "pygments_lexer": "ipython3",
   "version": "3.9.12"
  }
 },
 "nbformat": 4,
 "nbformat_minor": 4
}
