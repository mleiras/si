{
 "cells": [
  {
   "cell_type": "code",
   "execution_count": 1,
   "metadata": {},
   "outputs": [],
   "source": [
    "import numpy as np"
   ]
  },
  {
   "cell_type": "code",
   "execution_count": 2,
   "metadata": {},
   "outputs": [],
   "source": [
    "import sys\n",
    "sys.path.insert(0, \"/home/monica/Documents/2_ano/sistemas/si/\") \n",
    "from src.si.data.dataset import Dataset\n",
    "from src.si.linear_model.ridge_regression import RidgeRegression\n",
    "from src.si.linear_model.logistic_regression import LogisticRegression\n",
    "from src.si.model_selection.split import train_test_split\n",
    "import matplotlib.pyplot as plt\n",
    "\n",
    "from sklearn import preprocessing\n"
   ]
  },
  {
   "cell_type": "code",
   "execution_count": 3,
   "metadata": {},
   "outputs": [],
   "source": [
    "from src.si.io_folder.module_csv import read_csv"
   ]
  },
  {
   "cell_type": "markdown",
   "metadata": {},
   "source": [
    "# Avaliação Aula 5 (24/10/2022)"
   ]
  },
  {
   "cell_type": "markdown",
   "metadata": {},
   "source": [
    "## Exercício 5: Completa as implementações dos modelos RidgeRegression e LogisticRegression"
   ]
  },
  {
   "cell_type": "markdown",
   "metadata": {},
   "source": [
    "##### 5.1) Adiciona aos modelos anteriores o atributo (parâmetro estimado) cost_history.\n",
    "\n",
    "- O cost_history deve ser um dicionário.\n",
    "- Durante as iterações do Gradient Descent, computa a função de custo (self.cost(dataset)) e armazena o resultado no dicionário cost_history.\n",
    "- A chave deve ser o número da iteração e o valor deve ser o custo nessa iteração."
   ]
  },
  {
   "cell_type": "markdown",
   "metadata": {},
   "source": [
    "##### 5.2) Realiza um gráfico (line plot) que permita visualizar o comportamento do custo em função do número de iterações.\n",
    "\n",
    "- O eixo Y deve conter o valor de custo enquanto o eixo X deve conter as iterações. Podes usar o dicionário cost_history.\n",
    "- Usa o dataset cpu.csv, o package matplotlib e um jupyter notebook para visualizares o comportamento da função de custo (J) no modelo RidgeRegression.\n",
    "- Usa o dataset breast-bin.csv, o package matplotlib e um jupyter notebook para visualizares o comportamento da função de custo (J) no modelo LogisticRegression."
   ]
  },
  {
   "cell_type": "code",
   "execution_count": 4,
   "metadata": {},
   "outputs": [
    {
     "name": "stdout",
     "output_type": "stream",
     "text": [
      "Parameters: [-2.55283709 37.2717096  48.10859281 30.20415095 16.55792328 26.54214929]\n",
      "Score: 2157.7284031915706\n",
      "Cost: 2174.398270044398\n",
      "Predictions: [128.28148126 -15.62501224  -9.98637053 574.56628448 -12.24125782\n",
      " 253.74680091  21.24738694 -28.11778447 763.73512805 256.39735715\n",
      "  87.17151681 103.41442352  23.8633175   24.81010378  64.98345923\n",
      "   9.6878987  120.34128905  -1.2684042  161.83413948  85.13396593\n",
      "  51.17054876  28.03537716 127.66879405 -21.57357958 -41.59209717\n",
      "  16.54632014 -27.77279678   2.3989512   -3.58613797  59.17324652\n",
      " 255.41755053  21.12411739   2.70500394 -19.07167358 -33.08758636\n",
      "  24.17444621  10.68879899 350.40321557 151.66508832 -12.16235337\n",
      " 420.61782846]\n",
      "Score: 4631.462293043713\n",
      "Cost: 4699.768088928469\n"
     ]
    }
   ],
   "source": [
    "cpu = read_csv('/home/monica/Documents/2_ano/sistemas/si/datasets/cpu.csv', sep=',',features=True, label=True)\n",
    "\n",
    "cpu.X = preprocessing.StandardScaler().fit_transform(cpu.X)\n",
    "\n",
    "cpu_train, cpu_test = train_test_split(cpu)\n",
    "\n",
    "# fit the model\n",
    "model_cpu = RidgeRegression()\n",
    "model_cpu.fit(cpu_train)\n",
    "\n",
    "# get coefs\n",
    "print(f\"Parameters: {model_cpu.theta}\")\n",
    "\n",
    "# compute the score\n",
    "score = model_cpu.score(cpu_train)\n",
    "print(f\"Score: {score}\")\n",
    "\n",
    "# compute the cost\n",
    "cost = model_cpu.cost(cpu_train)\n",
    "print(f\"Cost: {cost}\")\n",
    "\n",
    "# predict\n",
    "y_pred_ = model_cpu.predict(cpu_test)\n",
    "print(f\"Predictions: {y_pred_}\")\n",
    "\n",
    "# compute the score\n",
    "score = model_cpu.score(cpu_test)\n",
    "print(f\"Score: {score}\")\n",
    "\n",
    "# compute the cost\n",
    "cost = model_cpu.cost(cpu_test)\n",
    "print(f\"Cost: {cost}\")\n"
   ]
  },
  {
   "cell_type": "code",
   "execution_count": 5,
   "metadata": {},
   "outputs": [
    {
     "data": {
      "image/png": "[encoded data removed]",
      "text/plain": [
       "<Figure size 432x288 with 1 Axes>"
      ]
     },
     "metadata": {
      "needs_background": "light"
     },
     "output_type": "display_data"
    }
   ],
   "source": [
    "model_cpu.cost_plot()"
   ]
  },
  {
   "cell_type": "code",
   "execution_count": 6,
   "metadata": {},
   "outputs": [
    {
     "name": "stdout",
     "output_type": "stream",
     "text": [
      "Parameters: [0.00103824 0.00116097 0.00115981 0.00099354 0.00096986 0.00115512\n",
      " 0.00105531 0.00099401 0.00058398]\n",
      "Score: 0.962432915921288\n",
      "Cost: 0.6899123218907625\n",
      "Predictions: [1. 1. 0. 0. 0. 0. 1. 0. 0. 1. 0. 1. 1. 1. 0. 0. 0. 0. 1. 0. 0. 1. 0. 1.\n",
      " 1. 1. 0. 0. 0. 0. 1. 0. 1. 0. 0. 0. 0. 0. 1. 1. 0. 0. 1. 0. 0. 1. 1. 0.\n",
      " 0. 1. 1. 0. 1. 0. 0. 1. 0. 0. 1. 0. 1. 1. 1. 0. 0. 1. 0. 0. 1. 0. 0. 0.\n",
      " 0. 0. 1. 0. 0. 1. 0. 1. 0. 1. 0. 0. 0. 1. 1. 0. 0. 0. 0. 1. 0. 1. 1. 0.\n",
      " 0. 0. 0. 1. 1. 0. 1. 1. 0. 1. 0. 0. 0. 1. 1. 1. 0. 0. 0. 1. 0. 1. 1. 0.\n",
      " 0. 0. 1. 0. 0. 0. 0. 0. 0. 0. 0. 1. 0. 0. 0. 1. 0. 0. 1.]\n",
      "Score: 0.9856115107913669\n",
      "Cost: 0.6898192359156359\n"
     ]
    }
   ],
   "source": [
    "breast_bin = read_csv('/home/monica/Documents/2_ano/sistemas/si/datasets/breast-bin.csv', sep=',',features=True, label=True)\n",
    "\n",
    "breast_bin.X = preprocessing.StandardScaler().fit_transform(breast_bin.X)\n",
    "\n",
    "breast_bin_train, breast_bin_test = train_test_split(breast_bin)\n",
    "\n",
    "# fit the model    \n",
    "model_b = LogisticRegression()\n",
    "model_b.fit(breast_bin_train)\n",
    "\n",
    "# get coefs\n",
    "print(f\"Parameters: {model_b.theta}\")\n",
    "\n",
    "# compute the score\n",
    "score = model_b.score(breast_bin_train)\n",
    "print(f\"Score: {score}\")\n",
    "\n",
    "# compute the cost\n",
    "cost = model_b.cost(breast_bin_train)\n",
    "print(f\"Cost: {cost}\")\n",
    "\n",
    "# predict\n",
    "y_pred_ = model_b.predict(breast_bin_test)\n",
    "print(f\"Predictions: {y_pred_}\")\n",
    "\n",
    "# compute the score\n",
    "score = model_b.score(breast_bin_test)\n",
    "print(f\"Score: {score}\")\n",
    "\n",
    "# compute the cost\n",
    "cost = model_b.cost(breast_bin_test)\n",
    "print(f\"Cost: {cost}\")"
   ]
  },
  {
   "cell_type": "code",
   "execution_count": 7,
   "metadata": {},
   "outputs": [
    {
     "data": {
      "image/png": "[encoded data removed]",
      "text/plain": [
       "<Figure size 432x288 with 1 Axes>"
      ]
     },
     "metadata": {
      "needs_background": "light"
     },
     "output_type": "display_data"
    }
   ],
   "source": [
    "model_b.cost_plot()"
   ]
  },
  {
   "cell_type": "markdown",
   "metadata": {},
   "source": [
    "##### 5.3) Altera agora o algoritmo de Gradient Descent. Este algoritmo deve parar quando o valor da função de custo (J/self.cost) não se altera.\n",
    "\n",
    "- Quando a diferença entre o custo da iteração anterior e o custo da iteração atual for inferior a um determinado valor deves parar o Gradient Descent.\n",
    "- No caso do RidgeRegression, o critério de paragem deve ser uma diferença inferior a 1.\n",
    "- No caso do LogisticRegression, o critério de paragem deve ser uma diferença inferior a 0.0001.\n",
    "- Deves usar o dicionário cost_history para obteres o custo da iteração anterior e calcular a diferença da seguinte forma: cost_history(i-1) – cost_history(i).\n",
    "- Usa o dataset cpu.csv, o package matplotlib e um jupyter notebook para visualizares o comportamento da função de custo (J) no modelo RidgeRegression\n",
    "- Usa o dataset breast-bin.csv, o package matplotlib e um jupyter notebook para visualizares o comportamento da função de custo (J) no modelo LogisticRegression"
   ]
  },
  {
   "cell_type": "code",
   "execution_count": 8,
   "metadata": {},
   "outputs": [],
   "source": [
    "# Alterado (acima já tem resultados com o algoritmo a parar quando cost não muda)"
   ]
  },
  {
   "cell_type": "markdown",
   "metadata": {},
   "source": [
    "##### 5.4) (OPCIONAL) Adiciona uma segunda versão do algoritmo Gradient Descent. Este algoritmo deve diminuir o valor de alfa quando a função de custo (J/self.cost) não se altera.\n",
    "\n",
    "- Quando a diferença entre o custo da iteração anterior e o custo da iteração atual for inferior a um determinado valor deves diminuir o alfa\n",
    "- No caso do RidgeRegression, o critério para alterar o alfa deve ser uma diferença inferior a 1.\n",
    "- No caso do LogisticRegression, o critério para alterar o alfa deve ser uma diferença inferior a 0.0001.\n",
    "- Deves diminuir o valor do alfa usando a seguinte sugestão: self.alfa = self.alfa/2\n",
    "- Deves usar o dicionário cost_history para obteres o custo da iteração anterior e calcular a diferença da seguinte forma: cost_history(i-1) – cost_history(i).\n",
    "- Usa o dataset cpu.csv, o package matplotlib e um jupyter notebook para visualizares o comportamento da função de custo (J) no modelo RidgeRegression com o novo Gradient Descent\n",
    "- Usa o dataset breast-bin.csv, o package matplotlib e um jupyter notebook para visualizares o comportamento da função de custo (J) no modelo LogisticRegression com o novo Gradient Descent"
   ]
  },
  {
   "cell_type": "code",
   "execution_count": 9,
   "metadata": {},
   "outputs": [
    {
     "name": "stdout",
     "output_type": "stream",
     "text": [
      "Parameters: [-2.56075663 37.26547006 48.09734574 30.20397853 16.56101774 26.53810252]\n",
      "Score: 2158.7283327957457\n",
      "Cost: 2175.393350397884\n",
      "Predictions: [128.27301374 -15.64097231 -10.0056978  574.46429684 -12.27816508\n",
      " 253.69736758  21.22924844 -28.13117148 763.62109488 256.36112325\n",
      "  87.14728343 103.38658408  23.84308164  24.7938249   64.95374535\n",
      "   9.6693786  120.3239081   -1.28075496 161.80076503  85.107016\n",
      "  51.14335042  28.01471497 127.64164662 -21.61059605 -41.62542547\n",
      "  16.52786704 -27.78956835   2.386552    -3.59878629  59.15139999\n",
      " 255.37155179  21.10797809   2.69012049 -19.08163949 -33.11298223\n",
      "  24.15773159  10.66127252 350.34488877 151.61811038 -12.17423321\n",
      " 420.58504037]\n",
      "Score: 4633.694566456487\n",
      "Cost: 4701.98049224086\n"
     ]
    }
   ],
   "source": [
    "cpu_train, cpu_test = train_test_split(cpu)\n",
    "\n",
    "# fit the model\n",
    "model_cpu = RidgeRegression(use_adaptive_alpha=True)\n",
    "model_cpu.fit(cpu_train)\n",
    "\n",
    "# get coefs\n",
    "print(f\"Parameters: {model_cpu.theta}\")\n",
    "\n",
    "# compute the score\n",
    "score = model_cpu.score(cpu_train)\n",
    "print(f\"Score: {score}\")\n",
    "\n",
    "# compute the cost\n",
    "cost = model_cpu.cost(cpu_train)\n",
    "print(f\"Cost: {cost}\")\n",
    "\n",
    "# predict\n",
    "y_pred_ = model_cpu.predict(cpu_test)\n",
    "print(f\"Predictions: {y_pred_}\")\n",
    "\n",
    "# compute the score\n",
    "score = model_cpu.score(cpu_test)\n",
    "print(f\"Score: {score}\")\n",
    "\n",
    "# compute the cost\n",
    "cost = model_cpu.cost(cpu_test)\n",
    "print(f\"Cost: {cost}\")\n"
   ]
  },
  {
   "cell_type": "code",
   "execution_count": 10,
   "metadata": {},
   "outputs": [
    {
     "data": {
      "image/png": "[encoded data removed]",
      "text/plain": [
       "<Figure size 432x288 with 1 Axes>"
      ]
     },
     "metadata": {
      "needs_background": "light"
     },
     "output_type": "display_data"
    }
   ],
   "source": [
    "model_cpu.cost_plot()"
   ]
  },
  {
   "cell_type": "code",
   "execution_count": 8,
   "metadata": {},
   "outputs": [
    {
     "name": "stdout",
     "output_type": "stream",
     "text": [
      "Parameters: [0.00103824 0.00116097 0.00115981 0.00099354 0.00096986 0.00115512\n",
      " 0.00105531 0.00099401 0.00058398]\n",
      "Score: 0.962432915921288\n",
      "Cost: 0.6899123218907625\n",
      "Predictions: [1. 1. 0. 0. 0. 0. 1. 0. 0. 1. 0. 1. 1. 1. 0. 0. 0. 0. 1. 0. 0. 1. 0. 1.\n",
      " 1. 1. 0. 0. 0. 0. 1. 0. 1. 0. 0. 0. 0. 0. 1. 1. 0. 0. 1. 0. 0. 1. 1. 0.\n",
      " 0. 1. 1. 0. 1. 0. 0. 1. 0. 0. 1. 0. 1. 1. 1. 0. 0. 1. 0. 0. 1. 0. 0. 0.\n",
      " 0. 0. 1. 0. 0. 1. 0. 1. 0. 1. 0. 0. 0. 1. 1. 0. 0. 0. 0. 1. 0. 1. 1. 0.\n",
      " 0. 0. 0. 1. 1. 0. 1. 1. 0. 1. 0. 0. 0. 1. 1. 1. 0. 0. 0. 1. 0. 1. 1. 0.\n",
      " 0. 0. 1. 0. 0. 0. 0. 0. 0. 0. 0. 1. 0. 0. 0. 1. 0. 0. 1.]\n",
      "Score: 0.9856115107913669\n",
      "Cost: 0.6898192359156359\n"
     ]
    }
   ],
   "source": [
    "breast_bin_train, breast_bin_test = train_test_split(breast_bin)\n",
    "\n",
    "# fit the model    \n",
    "model_b = LogisticRegression()\n",
    "model_b.fit(breast_bin_train)\n",
    "\n",
    "# get coefs\n",
    "print(f\"Parameters: {model_b.theta}\")\n",
    "\n",
    "# compute the score\n",
    "score = model_b.score(breast_bin_train)\n",
    "print(f\"Score: {score}\")\n",
    "\n",
    "# compute the cost\n",
    "cost = model_b.cost(breast_bin_train)\n",
    "print(f\"Cost: {cost}\")\n",
    "\n",
    "# predict\n",
    "y_pred_ = model_b.predict(breast_bin_test)\n",
    "print(f\"Predictions: {y_pred_}\")\n",
    "\n",
    "# compute the score\n",
    "score = model_b.score(breast_bin_test)\n",
    "print(f\"Score: {score}\")\n",
    "\n",
    "# compute the cost\n",
    "cost = model_b.cost(breast_bin_test)\n",
    "print(f\"Cost: {cost}\")"
   ]
  },
  {
   "cell_type": "code",
   "execution_count": 10,
   "metadata": {},
   "outputs": [
    {
     "data": {
      "image/png": "[encoded data removed]",
      "text/plain": [
       "<Figure size 432x288 with 1 Axes>"
      ]
     },
     "metadata": {
      "needs_background": "light"
     },
     "output_type": "display_data"
    }
   ],
   "source": [
    "model_b.cost_plot()"
   ]
  }
 ],
 "metadata": {
  "interpreter": {
   "hash": "e71a2622d18b954f601eb15bdbe4e36c93b9df08524a4249d8fe136413568723"
  },
  "kernelspec": {
   "display_name": "Python 3 (ipykernel)",
   "language": "python",
   "name": "python3"
  },
  "language_info": {
   "codemirror_mode": {
    "name": "ipython",
    "version": 3
   },
   "file_extension": ".py",
   "mimetype": "text/x-python",
   "name": "python",
   "nbconvert_exporter": "python",
   "pygments_lexer": "ipython3",
   "version": "3.9.12"
  }
 },
 "nbformat": 4,
 "nbformat_minor": 4
}
