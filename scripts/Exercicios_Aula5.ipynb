{
 "cells": [
  {
   "cell_type": "code",
   "execution_count": 10,
   "metadata": {},
   "outputs": [],
   "source": [
    "import numpy as np"
   ]
  },
  {
   "cell_type": "code",
   "execution_count": 11,
   "metadata": {},
   "outputs": [],
   "source": [
    "import sys\n",
    "sys.path.insert(0, \"/home/monica/Documents/2_ano/sistemas/si/\") \n",
    "from src.si.data.dataset import Dataset\n",
    "from src.si.linear_model.ridge_regression import RidgeRegression\n",
    "from src.si.linear_model.logistic_regression import LogisticRegression\n",
    "from src.si.model_selection.split import train_test_split\n",
    "import matplotlib.pyplot as plt\n",
    "\n",
    "from sklearn import preprocessing\n"
   ]
  },
  {
   "cell_type": "code",
   "execution_count": 12,
   "metadata": {},
   "outputs": [],
   "source": [
    "from src.si.io_folder.module_csv import read_csv"
   ]
  },
  {
   "cell_type": "markdown",
   "metadata": {},
   "source": [
    "# Avaliação Aula 5 (24/10/2022)"
   ]
  },
  {
   "cell_type": "markdown",
   "metadata": {},
   "source": [
    "## Exercício 5: Completa as implementações dos modelos RidgeRegression e LogisticRegression"
   ]
  },
  {
   "cell_type": "markdown",
   "metadata": {},
   "source": [
    "##### 5.1) Adiciona aos modelos anteriores o atributo (parâmetro estimado) cost_history.\n",
    "\n",
    "- O cost_history deve ser um dicionário.\n",
    "- Durante as iterações do Gradient Descent, computa a função de custo (self.cost(dataset)) e armazena o resultado no dicionário cost_history.\n",
    "- A chave deve ser o número da iteração e o valor deve ser o custo nessa iteração."
   ]
  },
  {
   "cell_type": "markdown",
   "metadata": {},
   "source": [
    "##### 5.2) Realiza um gráfico (line plot) que permita visualizar o comportamento do custo em função do número de iterações.\n",
    "\n",
    "- O eixo Y deve conter o valor de custo enquanto o eixo X deve conter as iterações. Podes usar o dicionário cost_history.\n",
    "- Usa o dataset cpu.csv, o package matplotlib e um jupyter notebook para visualizares o comportamento da função de custo (J) no modelo RidgeRegression.\n",
    "- Usa o dataset breast-bin.csv, o package matplotlib e um jupyter notebook para visualizares o comportamento da função de custo (J) no modelo LogisticRegression."
   ]
  },
  {
   "cell_type": "code",
   "execution_count": 13,
   "metadata": {},
   "outputs": [
    {
     "name": "stdout",
     "output_type": "stream",
     "text": [
      "Parameters: [-2.56867693 37.25922783 48.08609535 30.20380419 16.56411137 26.53405429]\n",
      "Predictions: [128.26453523 -15.65693537 -10.02502879 574.36226915 -12.31507769\n",
      " 253.64791387  21.21110488 -28.14456071 763.50700723 256.32487007\n",
      "  87.12304095 103.35873423  23.8228405   24.77754089  64.92402347\n",
      "   9.65085393 120.30651647  -1.29310913 161.76737614  85.08005687\n",
      "  51.11614466  27.99404714 127.61448727 -21.64761761 -41.65875749\n",
      "  16.50940913 -27.80634248   2.37414919  -3.61143797  59.12954555\n",
      " 255.32553266  21.09183392   2.6752332  -19.0916076  -33.13838134\n",
      "  24.14101178  10.6337403  350.28653503 151.57111915 -12.18611573\n",
      " 420.55222382]\n",
      "Score: 4635.928999312793\n",
      "Cost: 4704.195052183103\n"
     ]
    }
   ],
   "source": [
    "cpu = read_csv('/home/monica/Documents/2_ano/sistemas/si/datasets/cpu.csv', sep=',',features=True, label=True)\n",
    "\n",
    "cpu.X = preprocessing.StandardScaler().fit_transform(cpu.X)\n",
    "\n",
    "cpu_train, cpu_test = train_test_split(cpu)\n",
    "\n",
    "# fit the model\n",
    "model_cpu = RidgeRegression()\n",
    "model_cpu.fit(cpu_train)\n",
    "\n",
    "# get coefs\n",
    "print(f\"Parameters: {model_cpu.theta}\")\n",
    "\n",
    "# predict\n",
    "y_pred_ = model_cpu.predict(cpu_test)\n",
    "print(f\"Predictions: {y_pred_}\")\n",
    "\n",
    "# compute the score\n",
    "score = model_cpu.score(cpu_test)\n",
    "print(f\"Score: {score}\")\n",
    "\n",
    "# compute the cost\n",
    "cost = model_cpu.cost(cpu_test)\n",
    "print(f\"Cost: {cost}\")\n"
   ]
  },
  {
   "cell_type": "code",
   "execution_count": 14,
   "metadata": {},
   "outputs": [
    {
     "data": {
      "image/png": "[encoded data removed]",
      "text/plain": [
       "<Figure size 432x288 with 1 Axes>"
      ]
     },
     "metadata": {
      "needs_background": "light"
     },
     "output_type": "display_data"
    }
   ],
   "source": [
    "model_cpu.cost_plot()"
   ]
  },
  {
   "cell_type": "code",
   "execution_count": 23,
   "metadata": {},
   "outputs": [
    {
     "name": "stdout",
     "output_type": "stream",
     "text": [
      "Parameters: [0.24005495 0.25518732 0.25818222 0.21714225 0.20373912 0.2746057\n",
      " 0.23317231 0.21467209 0.12461353]\n",
      "Predictions: [1. 1. 0. 0. 0. 0. 1. 0. 0. 1. 0. 1. 1. 1. 0. 0. 0. 0. 1. 0. 0. 1. 0. 1.\n",
      " 1. 1. 0. 0. 0. 0. 1. 0. 1. 0. 0. 0. 0. 0. 1. 1. 0. 0. 1. 0. 0. 1. 1. 0.\n",
      " 0. 1. 1. 0. 1. 0. 0. 1. 0. 0. 1. 0. 1. 1. 1. 0. 0. 1. 0. 0. 1. 0. 0. 0.\n",
      " 0. 0. 1. 0. 0. 1. 0. 1. 0. 1. 0. 0. 0. 1. 1. 0. 0. 0. 0. 1. 0. 1. 1. 0.\n",
      " 0. 0. 0. 1. 1. 0. 1. 1. 0. 1. 0. 0. 0. 1. 1. 1. 0. 0. 0. 1. 0. 1. 1. 0.\n",
      " 0. 0. 1. 0. 0. 0. 0. 0. 0. 0. 0. 1. 0. 0. 0. 1. 0. 0. 1.]\n",
      "Score: 0.9856115107913669\n",
      "Cost: 0.2395076287551021\n"
     ]
    }
   ],
   "source": [
    "breast_bin = read_csv('/home/monica/Documents/2_ano/sistemas/si/datasets/breast-bin.csv', sep=',',features=True, label=True)\n",
    "\n",
    "breast_bin.X = preprocessing.StandardScaler().fit_transform(breast_bin.X)\n",
    "\n",
    "breast_bin_train, breast_bin_test = train_test_split(breast_bin)\n",
    "\n",
    "# fit the model    \n",
    "model_b = LogisticRegression()\n",
    "model_b.fit(breast_bin_train)\n",
    "\n",
    "# get coefs\n",
    "print(f\"Parameters: {model_b.theta}\")\n",
    "\n",
    "# predict\n",
    "y_pred_ = model_b.predict(breast_bin_test)\n",
    "print(f\"Predictions: {y_pred_}\")\n",
    "\n",
    "# compute the score\n",
    "score = model_b.score(breast_bin_test)\n",
    "print(f\"Score: {score}\")\n",
    "\n",
    "# compute the cost\n",
    "cost = model_b.cost(breast_bin_test)\n",
    "print(f\"Cost: {cost}\")"
   ]
  },
  {
   "cell_type": "code",
   "execution_count": 24,
   "metadata": {},
   "outputs": [
    {
     "data": {
      "image/png": "[encoded data removed]",
      "text/plain": [
       "<Figure size 432x288 with 1 Axes>"
      ]
     },
     "metadata": {
      "needs_background": "light"
     },
     "output_type": "display_data"
    }
   ],
   "source": [
    "model_b.cost_plot()"
   ]
  },
  {
   "cell_type": "markdown",
   "metadata": {},
   "source": [
    "##### 5.3) Altera agora o algoritmo de Gradient Descent. Este algoritmo deve parar quando o valor da função de custo (J/self.cost) não se altera.\n",
    "\n",
    "- Quando a diferença entre o custo da iteração anterior e o custo da iteração atual for inferior a um determinado valor deves parar o Gradient Descent.\n",
    "- No caso do RidgeRegression, o critério de paragem deve ser uma diferença inferior a 1.\n",
    "- No caso do LogisticRegression, o critério de paragem deve ser uma diferença inferior a 0.0001.\n",
    "- Deves usar o dicionário cost_history para obteres o custo da iteração anterior e calcular a diferença da seguinte forma: cost_history(i-1) – cost_history(i).\n",
    "- Usa o dataset cpu.csv, o package matplotlib e um jupyter notebook para visualizares o comportamento da função de custo (J) no modelo RidgeRegression\n",
    "- Usa o dataset breast-bin.csv, o package matplotlib e um jupyter notebook para visualizares o comportamento da função de custo (J) no modelo LogisticRegression"
   ]
  },
  {
   "cell_type": "code",
   "execution_count": 17,
   "metadata": {},
   "outputs": [],
   "source": [
    "# Alterado no modo adaptive fit (está em comentário no regular). \n",
    "\n",
    "## Duvida: é suposto alterar o original (que agora é regular)?"
   ]
  },
  {
   "cell_type": "markdown",
   "metadata": {},
   "source": [
    "##### 5.4) (OPCIONAL) Adiciona uma segunda versão do algoritmo Gradient Descent. Este algoritmo deve diminuir o valor de alfa quando a função de custo (J/self.cost) não se altera.\n",
    "\n",
    "- Quando a diferença entre o custo da iteração anterior e o custo da iteração atual for inferior a um determinado valor deves diminuir o alfa\n",
    "- No caso do RidgeRegression, o critério para alterar o alfa deve ser uma diferença inferior a 1.\n",
    "- No caso do LogisticRegression, o critério para alterar o alfa deve ser uma diferença inferior a 0.0001.\n",
    "- Deves diminuir o valor do alfa usando a seguinte sugestão: self.alfa = self.alfa/2\n",
    "- Deves usar o dicionário cost_history para obteres o custo da iteração anterior e calcular a diferença da seguinte forma: cost_history(i-1) – cost_history(i).\n",
    "- Usa o dataset cpu.csv, o package matplotlib e um jupyter notebook para visualizares o comportamento da função de custo (J) no modelo RidgeRegression com o novo Gradient Descent\n",
    "- Usa o dataset breast-bin.csv, o package matplotlib e um jupyter notebook para visualizares o comportamento da função de custo (J) no modelo LogisticRegression com o novo Gradient Descent"
   ]
  },
  {
   "cell_type": "code",
   "execution_count": 18,
   "metadata": {},
   "outputs": [
    {
     "name": "stdout",
     "output_type": "stream",
     "text": [
      "Adaptive\n",
      "Parameters: [-2.56075663 37.26547006 48.09734574 30.20397853 16.56101774 26.53810252]\n",
      "Predictions: [128.27301374 -15.64097231 -10.0056978  574.46429684 -12.27816508\n",
      " 253.69736758  21.22924844 -28.13117148 763.62109488 256.36112325\n",
      "  87.14728343 103.38658408  23.84308164  24.7938249   64.95374535\n",
      "   9.6693786  120.3239081   -1.28075496 161.80076503  85.107016\n",
      "  51.14335042  28.01471497 127.64164662 -21.61059605 -41.62542547\n",
      "  16.52786704 -27.78956835   2.386552    -3.59878629  59.15139999\n",
      " 255.37155179  21.10797809   2.69012049 -19.08163949 -33.11298223\n",
      "  24.15773159  10.66127252 350.34488877 151.61811038 -12.17423321\n",
      " 420.58504037]\n",
      "Score: 4633.694566456487\n",
      "Cost: 4701.98049224086\n"
     ]
    }
   ],
   "source": [
    "cpu_train, cpu_test = train_test_split(cpu)\n",
    "\n",
    "# fit the model\n",
    "model_cpu = RidgeRegression(use_adaptive_alpha=True)\n",
    "model_cpu.fit(cpu_train)\n",
    "\n",
    "# get coefs\n",
    "print(f\"Parameters: {model_cpu.theta}\")\n",
    "\n",
    "# predict\n",
    "y_pred_ = model_cpu.predict(cpu_test)\n",
    "print(f\"Predictions: {y_pred_}\")\n",
    "\n",
    "# compute the score\n",
    "score = model_cpu.score(cpu_test)\n",
    "print(f\"Score: {score}\")\n",
    "\n",
    "# compute the cost\n",
    "cost = model_cpu.cost(cpu_test)\n",
    "print(f\"Cost: {cost}\")\n"
   ]
  },
  {
   "cell_type": "code",
   "execution_count": 19,
   "metadata": {},
   "outputs": [
    {
     "data": {
      "image/png": "[encoded data removed]",
      "text/plain": [
       "<Figure size 432x288 with 1 Axes>"
      ]
     },
     "metadata": {
      "needs_background": "light"
     },
     "output_type": "display_data"
    }
   ],
   "source": [
    "model_cpu.cost_plot()"
   ]
  },
  {
   "cell_type": "code",
   "execution_count": 20,
   "metadata": {},
   "outputs": [
    {
     "name": "stdout",
     "output_type": "stream",
     "text": [
      "Parameters: [0.24016416 0.25529718 0.2582956  0.21723534 0.20382172 0.27473541\n",
      " 0.23327379 0.2147621  0.12466886]\n",
      "Predictions: [1. 1. 0. 0. 0. 0. 1. 0. 0. 1. 0. 1. 1. 1. 0. 0. 0. 0. 1. 0. 0. 1. 0. 1.\n",
      " 1. 1. 0. 0. 0. 0. 1. 0. 1. 0. 0. 0. 0. 0. 1. 1. 0. 0. 1. 0. 0. 1. 1. 0.\n",
      " 0. 1. 1. 0. 1. 0. 0. 1. 0. 0. 1. 0. 1. 1. 1. 0. 0. 1. 0. 0. 1. 0. 0. 0.\n",
      " 0. 0. 1. 0. 0. 1. 0. 1. 0. 1. 0. 0. 0. 1. 1. 0. 0. 0. 0. 1. 0. 1. 1. 0.\n",
      " 0. 0. 0. 1. 1. 0. 1. 1. 0. 1. 0. 0. 0. 1. 1. 1. 0. 0. 0. 1. 0. 1. 1. 0.\n",
      " 0. 0. 1. 0. 0. 0. 0. 0. 0. 0. 0. 1. 0. 0. 0. 1. 0. 0. 1.]\n",
      "Score: 0.9856115107913669\n",
      "Cost: 0.23940250104550925\n"
     ]
    }
   ],
   "source": [
    "breast_bin_train, breast_bin_test = train_test_split(breast_bin)\n",
    "\n",
    "# fit the model    \n",
    "model_b = LogisticRegression(use_adaptive_alpha=True)\n",
    "model_b.fit(breast_bin_train)\n",
    "\n",
    "# get coefs\n",
    "print(f\"Parameters: {model_b.theta}\")\n",
    "\n",
    "# predict\n",
    "y_pred_ = model_b.predict(breast_bin_test)\n",
    "print(f\"Predictions: {y_pred_}\")\n",
    "\n",
    "# compute the score\n",
    "score = model_b.score(breast_bin_test)\n",
    "print(f\"Score: {score}\")\n",
    "\n",
    "# compute the cost\n",
    "cost = model_b.cost(breast_bin_test)\n",
    "print(f\"Cost: {cost}\")"
   ]
  },
  {
   "cell_type": "code",
   "execution_count": 21,
   "metadata": {},
   "outputs": [
    {
     "data": {
      "image/png": "[encoded data removed]",
      "text/plain": [
       "<Figure size 432x288 with 1 Axes>"
      ]
     },
     "metadata": {
      "needs_background": "light"
     },
     "output_type": "display_data"
    }
   ],
   "source": [
    "model_b.cost_plot()"
   ]
  }
 ],
 "metadata": {
  "interpreter": {
   "hash": "e71a2622d18b954f601eb15bdbe4e36c93b9df08524a4249d8fe136413568723"
  },
  "kernelspec": {
   "display_name": "Python 3 (ipykernel)",
   "language": "python",
   "name": "python3"
  },
  "language_info": {
   "codemirror_mode": {
    "name": "ipython",
    "version": 3
   },
   "file_extension": ".py",
   "mimetype": "text/x-python",
   "name": "python",
   "nbconvert_exporter": "python",
   "pygments_lexer": "ipython3",
   "version": "3.9.12"
  }
 },
 "nbformat": 4,
 "nbformat_minor": 4
}
