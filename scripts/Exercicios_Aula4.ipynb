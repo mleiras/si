{
 "cells": [
  {
   "cell_type": "code",
   "execution_count": 1,
   "metadata": {},
   "outputs": [],
   "source": [
    "import numpy as np"
   ]
  },
  {
   "cell_type": "code",
   "execution_count": 2,
   "metadata": {},
   "outputs": [],
   "source": [
    "import sys\n",
    "sys.path.insert(0, \"/home/monica/Documents/2_ano/sistemas/si/\") \n",
    "from src.si.data.dataset import Dataset\n",
    "from src.si.model_selection.split import train_test_split\n",
    "from src.si.neighbors.knn_regressor import KNNRegressor"
   ]
  },
  {
   "cell_type": "code",
   "execution_count": 3,
   "metadata": {},
   "outputs": [],
   "source": [
    "from src.si.io_folder.module_csv import read_csv"
   ]
  },
  {
   "cell_type": "markdown",
   "metadata": {},
   "source": [
    "# Avaliação Aula 4 (17/10/2022)"
   ]
  },
  {
   "cell_type": "markdown",
   "metadata": {},
   "source": [
    "## Exercício 4: Implementar o KNNRegressor com RMSE"
   ]
  },
  {
   "cell_type": "markdown",
   "metadata": {},
   "source": [
    "##### 4.1) Adiciona a métrica RMSE (RMQE em português) ao sub-package metrics. Deves criar um módulo chamado rmse.py"
   ]
  },
  {
   "cell_type": "markdown",
   "metadata": {},
   "source": [
    "##### 4.2) Considera a estrutura da função rmse apresentada no diapositivo seguinte.\n",
    "\n",
    "**def rmse**\n",
    "\n",
    "Assinatura/argumentos:\n",
    "- y_true – valores reais de Y\n",
    "- Y_pred – valores estimados de Y\n",
    "\n",
    "Ouput esperado:\n",
    "- O valor do erro entre y_true e y_pred\n",
    "\n",
    "Algoritmo:\n",
    "- Calcula o erro seguindo a formula da RMSE (RMQE em português)\n",
    "- N representa o número de amostras\n",
    "- y_true é a variável y_true\n",
    "- y_pred é a variável y_pred"
   ]
  },
  {
   "cell_type": "markdown",
   "metadata": {},
   "source": [
    "##### 4.3) Considera a estrutura do objeto KNNRegressor apresentada no diapositivo seguinte.\n",
    "\n",
    "**class KNNRegressor**\n",
    "\n",
    "Parâmetros:\n",
    "- k – número de k exemplos a considerar\n",
    "- distance – função que calcula a distância entre amostra e as amostras do dataset de treino\n",
    "\n",
    "Parâmetros estimados:\n",
    "- dataset – armazena o dataset de treino\n",
    "\n",
    "Métodos:\n",
    "- fit – armazena o dataset de treino\n",
    "- predict – estima a classe para uma amostra tendo como base os k exemplos mais semelhantes\n",
    "- score – calcula o erro entre as classes estimadas e as reais"
   ]
  },
  {
   "cell_type": "markdown",
   "metadata": {},
   "source": [
    "##### 4.4) Podes testar o objeto KNNRegressor num jupyter notebook usando o dataset cpu.csv (regressão)"
   ]
  },
  {
   "cell_type": "code",
   "execution_count": 4,
   "metadata": {},
   "outputs": [],
   "source": [
    "cpu = read_csv('/home/monica/Documents/2_ano/sistemas/si/datasets/cpu.csv', sep=',',features=True, label=True)\n",
    "train_dataset, test_dataset = train_test_split(cpu)\n",
    "# print(test_dataset.X[:5])"
   ]
  },
  {
   "cell_type": "code",
   "execution_count": 5,
   "metadata": {},
   "outputs": [
    {
     "name": "stdout",
     "output_type": "stream",
     "text": [
      "[192.   31.   31.  893.   18.  323.5  51.   26.5 893.  127.5  67.   76.\n",
      "  54.   63.5  94.   30.   75.   18.5 162.   56.   78.   78.  115.5  33.5\n",
      "  14.5  81.5  21.5  31.   21.5  79.5 344.   31.  115.5  21.   18.   39.\n",
      "  32.  416.   94.   27.5 127.5]\n"
     ]
    }
   ],
   "source": [
    "k = 2\n",
    "kmeans = KNNRegressor(k)\n",
    "kmeans.fit(train_dataset)\n",
    "predictions = kmeans.predict(test_dataset)\n",
    "print(predictions)"
   ]
  },
  {
   "cell_type": "code",
   "execution_count": 6,
   "metadata": {},
   "outputs": [
    {
     "name": "stdout",
     "output_type": "stream",
     "text": [
      "61.366501945080834\n"
     ]
    }
   ],
   "source": [
    "print(kmeans.score(test_dataset))"
   ]
  }
 ],
 "metadata": {
  "interpreter": {
   "hash": "e71a2622d18b954f601eb15bdbe4e36c93b9df08524a4249d8fe136413568723"
  },
  "kernelspec": {
   "display_name": "Python 3 (ipykernel)",
   "language": "python",
   "name": "python3"
  },
  "language_info": {
   "codemirror_mode": {
    "name": "ipython",
    "version": 3
   },
   "file_extension": ".py",
   "mimetype": "text/x-python",
   "name": "python",
   "nbconvert_exporter": "python",
   "pygments_lexer": "ipython3",
   "version": "3.9.12"
  }
 },
 "nbformat": 4,
 "nbformat_minor": 4
}
