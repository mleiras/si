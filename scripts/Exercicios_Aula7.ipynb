{
 "cells": [
  {
   "cell_type": "code",
   "execution_count": 1,
   "metadata": {},
   "outputs": [],
   "source": [
    "import numpy as np"
   ]
  },
  {
   "cell_type": "code",
   "execution_count": 2,
   "metadata": {},
   "outputs": [],
   "source": [
    "import sys\n",
    "sys.path.insert(0, \"/home/monica/Documents/2_ano/sistemas/si/\") \n",
    "from src.si.linear_model.logistic_regression import LogisticRegression\n",
    "from src.si.model_selection.randomized_search_cv import randomized_search_cv\n",
    "from src.si.io_folder.module_csv import read_csv"
   ]
  },
  {
   "cell_type": "markdown",
   "metadata": {},
   "source": [
    "# Avaliação Aula 7 (7/11/2022)"
   ]
  },
  {
   "cell_type": "markdown",
   "metadata": {},
   "source": [
    "## Exercício 7: Adiciona o método randomized_search_cv.\n",
    "\n",
    "O método randomized_search_cv implementa uma estratégia de otimização de parâmetros de usando Nº combinações aleatórias. O randomized_search_cv avalia apenas um conjunto aleatório de parâmetros retirados de uma distribuição ou conjunto de valores possíveis."
   ]
  },
  {
   "cell_type": "markdown",
   "metadata": {},
   "source": [
    "##### 7.1) Considera a estrutura e algoritmo do randomized_search_cv apresentados:\n",
    "\n",
    "**def randomized_search_cv**\n",
    "\n",
    "Assinatura/argumentos:\n",
    "\n",
    "- model – modelo a validar\n",
    "- dataset – dataset de validação\n",
    "- parameter_distribution – os parâmetros para a procura. Dicionário com nome do parâmetro e distribuição de valores\n",
    "- scoring – função de score\n",
    "- cv – número de folds\n",
    "- n_iter – número de combinações aleatórias de parâmetros\n",
    "- test_size – tamanho do dataset de teste\n",
    "\n",
    "Ouput esperado:\n",
    "- Uma lista de dicionários com a combinação dos parâmetros e os scores de treino e teste"
   ]
  },
  {
   "cell_type": "markdown",
   "metadata": {},
   "source": [
    "##### 7.2) Valida a tua implementação seguindo o protocolo:\n",
    "\n",
    "1. Usa o dataset breast-bin.csv"
   ]
  },
  {
   "cell_type": "code",
   "execution_count": 3,
   "metadata": {},
   "outputs": [],
   "source": [
    "breast_bin = read_csv('/home/monica/Documents/2_ano/sistemas/si/datasets/breast-bin.csv', sep=',',features=False, label=True)\n",
    "# breast_bin.X"
   ]
  },
  {
   "cell_type": "markdown",
   "metadata": {},
   "source": [
    "2. Usa o sklearn.preprocessing.StandardScaler para standardizar os dataset.\n",
    "\n",
    "breast_dataset.X = StandardScaler().fit_transform(breast_dataset.X)\n"
   ]
  },
  {
   "cell_type": "code",
   "execution_count": 4,
   "metadata": {},
   "outputs": [],
   "source": [
    "from sklearn.preprocessing import StandardScaler\n",
    "\n",
    "breast_bin.X = StandardScaler().fit_transform(breast_bin.X)"
   ]
  },
  {
   "cell_type": "markdown",
   "metadata": {},
   "source": [
    "3. Cria o modelo LogisticRegression"
   ]
  },
  {
   "cell_type": "code",
   "execution_count": 5,
   "metadata": {},
   "outputs": [],
   "source": [
    "modelo_lg = LogisticRegression()"
   ]
  },
  {
   "cell_type": "markdown",
   "metadata": {},
   "source": [
    "4. Realiza uma procura aleatória com as seguintes distribuições de parâmetros:\n",
    "\n",
    "- l2_penalty: distribuição entre 1 e 10 com 10 intervalos iguais (e.g., np.linspace(1, 10, 10))\n",
    "- alpha: distribuição entre 0.001 e 0.0001 com 100 intervalos iguais (e.g., np.linspace(0.001, 0.0001, 100))\n",
    "- max_iter: distribuição entre 1000 e 2000 com 200 intervalos iguais (e.g., np.linspace(1000, 2000, 200))"
   ]
  },
  {
   "cell_type": "code",
   "execution_count": 6,
   "metadata": {},
   "outputs": [],
   "source": [
    "parameter_grid_ = {\n",
    "        'l2_penalty': np.linspace(1, 10, 10),\n",
    "        'alpha': np.linspace(0.001, 0.0001, 100),\n",
    "        'max_iter': np.linspace(1000, 2000, 200, dtype=int)\n",
    "    }"
   ]
  },
  {
   "cell_type": "markdown",
   "metadata": {},
   "source": [
    "5. Podes usar n_iter de 10 e 3 folds para o cross_validate."
   ]
  },
  {
   "cell_type": "code",
   "execution_count": 7,
   "metadata": {},
   "outputs": [],
   "source": [
    "scores = randomized_search_cv(modelo_lg,\n",
    "                             breast_bin,\n",
    "                             parameter_grid=parameter_grid_,\n",
    "                             cv=3, n_iter=10)"
   ]
  },
  {
   "cell_type": "markdown",
   "metadata": {},
   "source": [
    "6. Quais os scores obtidos?"
   ]
  },
  {
   "cell_type": "code",
   "execution_count": 8,
   "metadata": {},
   "outputs": [
    {
     "name": "stdout",
     "output_type": "stream",
     "text": [
      "[{'seeds': [754, 571, 39], 'train': [0.9713774597495528, 0.9731663685152058, 0.964221824686941], 'test': [0.9496402877697842, 0.9424460431654677, 0.9784172661870504], 'parameters': {'l2_penalty': 4.0, 'alpha': 0.0007818181818181818, 'max_iter': 1562}}, {'seeds': [589, 350, 336], 'train': [0.9660107334525939, 0.9677996422182469, 0.9677996422182469], 'test': [0.9712230215827338, 0.9640287769784173, 0.9640287769784173], 'parameters': {'l2_penalty': 9.0, 'alpha': 0.0007363636363636363, 'max_iter': 1603}}, {'seeds': [245, 27, 779], 'train': [0.9677996422182469, 0.962432915921288, 0.9677996422182469], 'test': [0.9640287769784173, 0.9856115107913669, 0.9640287769784173], 'parameters': {'l2_penalty': 9.0, 'alpha': 0.0006545454545454545, 'max_iter': 1015}}, {'seeds': [898, 672, 986], 'train': [0.9660107334525939, 0.9695885509838998, 0.962432915921288], 'test': [0.9712230215827338, 0.9568345323741008, 0.9856115107913669], 'parameters': {'l2_penalty': 5.0, 'alpha': 0.0006636363636363636, 'max_iter': 1658}}, {'seeds': [358, 662, 509], 'train': [0.964221824686941, 0.9677996422182469, 0.9731663685152058], 'test': [0.9784172661870504, 0.9640287769784173, 0.9424460431654677], 'parameters': {'l2_penalty': 10.0, 'alpha': 0.0006363636363636364, 'max_iter': 1130}}, {'seeds': [441, 471, 325], 'train': [0.9677996422182469, 0.9731663685152058, 0.962432915921288], 'test': [0.9640287769784173, 0.9424460431654677, 0.9856115107913669], 'parameters': {'l2_penalty': 10.0, 'alpha': 0.0005818181818181818, 'max_iter': 1582}}, {'seeds': [200, 928, 21], 'train': [0.964221824686941, 0.9660107334525939, 0.962432915921288], 'test': [0.9784172661870504, 0.9712230215827338, 0.9856115107913669], 'parameters': {'l2_penalty': 9.0, 'alpha': 0.0005818181818181818, 'max_iter': 1608}}, {'seeds': [11, 653, 805], 'train': [0.964221824686941, 0.9731663685152058, 0.960644007155635], 'test': [0.9784172661870504, 0.9424460431654677, 0.9928057553956835], 'parameters': {'l2_penalty': 5.0, 'alpha': 0.0006363636363636364, 'max_iter': 1562}}, {'seeds': [353, 980, 292], 'train': [0.9677996422182469, 0.960644007155635, 0.9713774597495528], 'test': [0.9640287769784173, 0.9928057553956835, 0.9496402877697842], 'parameters': {'l2_penalty': 9.0, 'alpha': 0.0007, 'max_iter': 1417}}, {'seeds': [701, 651, 961], 'train': [0.962432915921288, 0.9695885509838998, 0.960644007155635], 'test': [0.9856115107913669, 0.9568345323741008, 0.9928057553956835], 'parameters': {'l2_penalty': 10.0, 'alpha': 0.0009545454545454546, 'max_iter': 1115}}]\n"
     ]
    }
   ],
   "source": [
    "print(scores)"
   ]
  }
 ],
 "metadata": {
  "interpreter": {
   "hash": "e71a2622d18b954f601eb15bdbe4e36c93b9df08524a4249d8fe136413568723"
  },
  "kernelspec": {
   "display_name": "Python 3 (ipykernel)",
   "language": "python",
   "name": "python3"
  },
  "language_info": {
   "codemirror_mode": {
    "name": "ipython",
    "version": 3
   },
   "file_extension": ".py",
   "mimetype": "text/x-python",
   "name": "python",
   "nbconvert_exporter": "python",
   "pygments_lexer": "ipython3",
   "version": "3.9.12"
  }
 },
 "nbformat": 4,
 "nbformat_minor": 4
}
