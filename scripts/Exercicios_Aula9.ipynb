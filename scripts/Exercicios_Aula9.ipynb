{
 "cells": [
  {
   "cell_type": "code",
   "execution_count": 2,
   "metadata": {},
   "outputs": [],
   "source": [
    "import numpy as np"
   ]
  },
  {
   "cell_type": "code",
   "execution_count": 3,
   "metadata": {},
   "outputs": [],
   "source": [
    "import sys\n",
    "sys.path.insert(0, \"/home/monica/Documents/2_ano/sistemas/si/\")\n",
    "from src.si.data.dataset import Dataset\n",
    "from src.si.neuronetworks.nn import NN\n",
    "from src.si.neuronetworks.layer import Dense\n",
    "from src.si.neuronetworks.sigmoid_activation import SigmoidActivation\n",
    "from src.si.neuronetworks.soft_max_activation import SoftMaxActivation\n",
    "from src.si.neuronetworks.re_lu_activation import ReLUActivation"
   ]
  },
  {
   "cell_type": "markdown",
   "metadata": {},
   "source": [
    "# Avaliação Aula 9 (21/11/2022)"
   ]
  },
  {
   "cell_type": "markdown",
   "metadata": {},
   "source": [
    "## Exercício 9: Redes neuronais, layers de ativação, regressão e multiclass"
   ]
  },
  {
   "cell_type": "markdown",
   "metadata": {},
   "source": [
    "##### 9.1) Adiciona uma nova layer de ativação chamada SoftMaxActivation"
   ]
  },
  {
   "cell_type": "markdown",
   "metadata": {},
   "source": [
    "##### 9.2) Adiciona uma nova layer de ativação chamada ReLUActivation"
   ]
  },
  {
   "cell_type": "markdown",
   "metadata": {},
   "source": [
    "##### 9.3) Constrói um modelo de redes neuronais considerando a seguinte topologia:\n",
    "- O dataset de treino contém 32 features\n",
    "- O problema é do tipo binário\n",
    "- O modelo deve conter 3 Dense layers:\n",
    "    - Dense layer de input\n",
    "    - Dense layer com redução do número de neurónios (units) para metade\n",
    "    - Dense layer final (output)\n",
    "- Usa a SigmoidActivation como layer de ativação"
   ]
  },
  {
   "cell_type": "code",
   "execution_count": 4,
   "metadata": {},
   "outputs": [],
   "source": [
    "# 3 layers with sigmoid activation\n",
    "\n",
    "l1_bin = Dense(input_size = 32, output_size=32)\n",
    "l2_bin = Dense(input_size = 32, output_size=16)\n",
    "l3_bin = Dense(input_size = 16, output_size=1)\n",
    "\n",
    "l1_bin_sa = SigmoidActivation()\n",
    "l2_bin_sa = SigmoidActivation()\n",
    "l3_bin_sa = SigmoidActivation()\n",
    "\n",
    "model_bin = NN(layers=[ l1_bin, l1_bin_sa, l2_bin, l2_bin_sa, l3_bin, l3_bin_sa])"
   ]
  },
  {
   "cell_type": "markdown",
   "metadata": {},
   "source": [
    "##### 9.4) Constrói um modelo de redes neuronais considerando a seguinte topologia:\n",
    "- O dataset de treino contém 32 features\n",
    "- O problema é do tipo multiclass com 3 classes\n",
    "- O modelo deve conter 3 Dense layers:\n",
    "    - Dense layer de input\n",
    "    - Dense layer com redução do número de neurónios (units) para metade\n",
    "    - Dense layer final (output)\n",
    "- Usa a SigmoidActivation como layer de ativação\n",
    "- Usa a SoftMaxActivation como última layer de ativação"
   ]
  },
  {
   "cell_type": "code",
   "execution_count": 5,
   "metadata": {},
   "outputs": [],
   "source": [
    "# 3 layers with sigmoid_activation and softmax_activation\n",
    "\n",
    "l1_class = Dense(input_size = 32, output_size=32)\n",
    "l2_class = Dense(input_size = 32, output_size=16)\n",
    "l3_class = Dense(input_size = 16, output_size=1) # deveria mudar output para 3\n",
    "\n",
    "l1_class_sa = SigmoidActivation()\n",
    "l2_class_sa = SigmoidActivation()\n",
    "l3_class_sma = SoftMaxActivation()\n",
    "\n",
    "model_class = NN(layers=[ l1_class, l1_class_sa, l2_class, l2_class_sa, l3_class, l3_class_sma])"
   ]
  },
  {
   "cell_type": "markdown",
   "metadata": {},
   "source": [
    "##### 9.5) Constrói um modelo de redes neuronais considerando a seguinte topologia:\n",
    "- O dataset de treino contém 32 features\n",
    "- O problema é do tipo regressão\n",
    "- O modelo deve conter 3 Dense layers:\n",
    "    - Dense layer de input\n",
    "    - Dense layer com redução do número de neurónios (units) para metade\n",
    "    - Dense layer final (output)\n",
    "- Usa a ReLU como layer de ativação\n",
    "- Considera que o modelo deve acabar com uma ativação linear"
   ]
  },
  {
   "cell_type": "code",
   "execution_count": 7,
   "metadata": {},
   "outputs": [],
   "source": [
    "# 3 layers with ReLUActivation\n",
    "\n",
    "l1_reg = Dense(input_size = 32, output_size=32)\n",
    "l2_reg = Dense(input_size = 32, output_size=16)\n",
    "l3_reg = Dense(input_size = 16, output_size=1)\n",
    "\n",
    "l1_reg_rlua = ReLUActivation()\n",
    "l2_reg_rlua = ReLUActivation()\n",
    "\n",
    "model_reg = NN(layers=[ l1_reg, l1_reg_rlua, l2_reg, l2_reg_rlua, l3_reg])"
   ]
  }
 ],
 "metadata": {
  "interpreter": {
   "hash": "e71a2622d18b954f601eb15bdbe4e36c93b9df08524a4249d8fe136413568723"
  },
  "kernelspec": {
   "display_name": "Python 3 (ipykernel)",
   "language": "python",
   "name": "python3"
  },
  "language_info": {
   "codemirror_mode": {
    "name": "ipython",
    "version": 3
   },
   "file_extension": ".py",
   "mimetype": "text/x-python",
   "name": "python",
   "nbconvert_exporter": "python",
   "pygments_lexer": "ipython3",
   "version": "3.9.12"
  }
 },
 "nbformat": 4,
 "nbformat_minor": 4
}
