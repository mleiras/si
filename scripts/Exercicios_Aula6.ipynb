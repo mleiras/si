{
 "cells": [
  {
   "cell_type": "code",
   "execution_count": 1,
   "metadata": {},
   "outputs": [],
   "source": [
    "import numpy as np"
   ]
  },
  {
   "cell_type": "code",
   "execution_count": 2,
   "metadata": {},
   "outputs": [],
   "source": [
    "import sys\n",
    "sys.path.insert(0, \"/home/monica/Documents/2_ano/sistemas/si/\") \n",
    "from src.si.ensemble.stacking_classifier import StackingClassifier\n",
    "from src.si.linear_model.logistic_regression import LogisticRegression\n",
    "from src.si.neighbors.knn_classifier import KNNClassifier\n",
    "from src.si.model_selection.split import train_test_split\n",
    "from src.si.io_folder.module_csv import read_csv"
   ]
  },
  {
   "cell_type": "markdown",
   "metadata": {},
   "source": [
    "# Avaliação Aula 6 (31/10/2022)"
   ]
  },
  {
   "cell_type": "markdown",
   "metadata": {},
   "source": [
    "## Exercício 6: Adiciona o modelo ensemble StackingClassifier\n",
    "\n",
    "O modelo StackingClassifier usa um conjunto de modelos para gerar previsões. Estas previsões são depois usadas para treinar outro modelo, o modelo final. O modelo final pode depois ser usado para prever a variável de saída (Y)."
   ]
  },
  {
   "cell_type": "markdown",
   "metadata": {},
   "source": [
    "##### 6.1) Considera a estrutura do StackingClassifier apresentada nos slides seguintes. "
   ]
  },
  {
   "cell_type": "markdown",
   "metadata": {},
   "source": [
    "Feito diretamente no package (si > ensemble > stacking_classifier.py)"
   ]
  },
  {
   "cell_type": "markdown",
   "metadata": {},
   "source": [
    "##### 6.2) Valida a tua implementação seguindo o protocolo:\n",
    "\n",
    "1. Usa o dataset breast-bin.csv"
   ]
  },
  {
   "cell_type": "code",
   "execution_count": 3,
   "metadata": {},
   "outputs": [
    {
     "data": {
      "text/plain": [
       "array([[5., 1., 1., ..., 1., 1., 1.],\n",
       "       [2., 1., 1., ..., 2., 1., 1.],\n",
       "       [2., 1., 1., ..., 3., 1., 1.],\n",
       "       ...,\n",
       "       [5., 2., 2., ..., 1., 1., 2.],\n",
       "       [2., 3., 2., ..., 3., 1., 1.],\n",
       "       [7., 6., 6., ..., 7., 1., 1.]])"
      ]
     },
     "execution_count": 3,
     "metadata": {},
     "output_type": "execute_result"
    }
   ],
   "source": [
    "breast_bin = read_csv('/home/monica/Documents/2_ano/sistemas/si/datasets/breast-bin.csv', sep=',',features=False, label=True)\n",
    "breast_bin.X"
   ]
  },
  {
   "cell_type": "markdown",
   "metadata": {},
   "source": [
    "2. Usa o sklearn.preprocessing.StandardScaler para standardizar os dataset.\n",
    "\n",
    "breast_dataset.X = StandardScaler().fit_transform(breast_dataset.X)\n"
   ]
  },
  {
   "cell_type": "code",
   "execution_count": 4,
   "metadata": {},
   "outputs": [],
   "source": [
    "from sklearn.preprocessing import StandardScaler\n",
    "\n",
    "breast_bin.X = StandardScaler().fit_transform(breast_bin.X)"
   ]
  },
  {
   "cell_type": "markdown",
   "metadata": {},
   "source": [
    "3. Divide o dataset em treino e teste"
   ]
  },
  {
   "cell_type": "code",
   "execution_count": 5,
   "metadata": {},
   "outputs": [
    {
     "name": "stdout",
     "output_type": "stream",
     "text": [
      "(559, 9) (139, 9)\n",
      "(559,) (139,)\n"
     ]
    }
   ],
   "source": [
    "breast_bin_train, breast_bin_test = train_test_split(breast_bin)\n",
    "print(breast_bin_train.X.shape, breast_bin_test.X.shape)\n",
    "print(breast_bin_train.y.shape, breast_bin_test.y.shape)"
   ]
  },
  {
   "cell_type": "markdown",
   "metadata": {},
   "source": [
    "4. Cria o modelo KNNClassifier"
   ]
  },
  {
   "cell_type": "code",
   "execution_count": 6,
   "metadata": {},
   "outputs": [],
   "source": [
    "modelo_knn = KNNClassifier()"
   ]
  },
  {
   "cell_type": "markdown",
   "metadata": {},
   "source": [
    "5. Cria o modelo LogisticRegression"
   ]
  },
  {
   "cell_type": "code",
   "execution_count": 7,
   "metadata": {},
   "outputs": [],
   "source": [
    "modelo_lg = LogisticRegression()"
   ]
  },
  {
   "cell_type": "markdown",
   "metadata": {},
   "source": [
    "6. Cria um segundo modelo KNNClassifier (modelo final)"
   ]
  },
  {
   "cell_type": "code",
   "execution_count": 8,
   "metadata": {},
   "outputs": [],
   "source": [
    "modelo_final = KNNClassifier(3)"
   ]
  },
  {
   "cell_type": "markdown",
   "metadata": {},
   "source": [
    "7. Cria o modelo StackingClassifier usando os classificadores anteriores. O segundo modelo\n",
    "KNNClassifier deve ser usado como modelo final."
   ]
  },
  {
   "cell_type": "code",
   "execution_count": 9,
   "metadata": {},
   "outputs": [],
   "source": [
    "stacking_model = StackingClassifier([modelo_knn, modelo_lg], modelo_final)"
   ]
  },
  {
   "cell_type": "markdown",
   "metadata": {},
   "source": [
    "8. Treina o modelo. Qual o score obtido?"
   ]
  },
  {
   "cell_type": "code",
   "execution_count": 10,
   "metadata": {},
   "outputs": [
    {
     "name": "stdout",
     "output_type": "stream",
     "text": [
      "0.9856115107913669\n"
     ]
    }
   ],
   "source": [
    "stacking_model.fit(breast_bin_train)\n",
    "\n",
    "print(stacking_model.score(breast_bin_test))"
   ]
  }
 ],
 "metadata": {
  "interpreter": {
   "hash": "e71a2622d18b954f601eb15bdbe4e36c93b9df08524a4249d8fe136413568723"
  },
  "kernelspec": {
   "display_name": "Python 3 (ipykernel)",
   "language": "python",
   "name": "python3"
  },
  "language_info": {
   "codemirror_mode": {
    "name": "ipython",
    "version": 3
   },
   "file_extension": ".py",
   "mimetype": "text/x-python",
   "name": "python",
   "nbconvert_exporter": "python",
   "pygments_lexer": "ipython3",
   "version": "3.9.12"
  }
 },
 "nbformat": 4,
 "nbformat_minor": 4
}
